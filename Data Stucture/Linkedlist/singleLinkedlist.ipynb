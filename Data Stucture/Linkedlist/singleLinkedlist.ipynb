{
 "cells": [
  {
   "cell_type": "code",
   "execution_count": 7,
   "metadata": {},
   "outputs": [
    {
     "name": "stdout",
     "output_type": "stream",
     "text": [
      "1\n",
      "2\n"
     ]
    }
   ],
   "source": [
    "#Single Linked List \n",
    "\n",
    "#create the Node class, and entered the data and the place of next define None becouse  single Node has None in the end.\n",
    "\n",
    "class Node:\n",
    "    def __init__(self,data):\n",
    "        self.data = data\n",
    "        self.next = None\n",
    "\n",
    "# here we again use class for initial head with set None becouse there is None Nodes from stating.\n",
    "#then using method which we make variable name temp and print \n",
    "class PrintI:\n",
    "    def __init__(self):\n",
    "        self.head = None\n",
    "         \n",
    "    #Now Print the vlaues of linked list:-\n",
    "    #printStat, now we make variable who assign the value of self.head.\n",
    "    #Using Itration if temp found then print(it's data).\n",
    "    #Now make data.next  which is variable is temp = temp.next\n",
    "    def printStat(self):\n",
    "        temp = self.head\n",
    "        while(temp):\n",
    "            print(temp.data)\n",
    "            temp = temp.next\n",
    "\n",
    "#after this we should take Object of PrintI and PrintI has Constructor name called head. \n",
    "#In head variable we stored the Node class and gave the constuctor value of data variable.\n",
    "#now make obj.head first Node and next going to pointer the second one or none value using obj.head.next is second Node data.\n",
    "obj = PrintI()\n",
    "obj.head = Node(1)\n",
    "second = Node(2)\n",
    "\n",
    "obj.head.next = second\n",
    "\n",
    "#here we call the method of obj object which on gave us the LinkedList Result.\n",
    "obj.printStat()\n"
   ]
  }
 ],
 "metadata": {
  "kernelspec": {
   "display_name": "Python 3",
   "language": "python",
   "name": "python3"
  },
  "language_info": {
   "codemirror_mode": {
    "name": "ipython",
    "version": 3
   },
   "file_extension": ".py",
   "mimetype": "text/x-python",
   "name": "python",
   "nbconvert_exporter": "python",
   "pygments_lexer": "ipython3",
   "version": "3.10.4"
  },
  "orig_nbformat": 4
 },
 "nbformat": 4,
 "nbformat_minor": 2
}

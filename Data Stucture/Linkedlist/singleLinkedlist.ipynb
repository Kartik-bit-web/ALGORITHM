{
 "cells": [
  {
   "cell_type": "code",
   "execution_count": 33,
   "metadata": {},
   "outputs": [
    {
     "name": "stdout",
     "output_type": "stream",
     "text": [
      "1\n",
      "2\n"
     ]
    }
   ],
   "source": [
    "#Single Linked List \n",
    "\n",
    "#create the Node class, and entered the data and the place of next define None becouse  single Node has None in the end.\n",
    "\n",
    "class Node:\n",
    "    def __init__(self,data):\n",
    "        self.data = data\n",
    "        self.next = None\n",
    "\n",
    "# here we again use class for initial head with set None becouse there is None Nodes from stating.\n",
    "#then using method which we make variable name temp and print \n",
    "class PrintI:\n",
    "    def __init__(self):\n",
    "        self.head = None\n",
    "         \n",
    "    #Now Print the vlaues of linked list:-\n",
    "    #printStat, now we make variable who assign the value of self.head.\n",
    "    #Using Itration if temp found then print(it's data).\n",
    "    #Now make data.next  which is variable is temp = temp.next\n",
    "    def printStat(self):\n",
    "        temp = self.head\n",
    "        while(temp):\n",
    "            print(temp.data)\n",
    "            temp = temp.next\n",
    "\n",
    "#after this we should take Object of PrintI and PrintI has Constructor name called head. \n",
    "#In head variable we stored the Node class and gave the constuctor value of data variable.\n",
    "#now make obj.head first Node and next going to pointer the second one or none value using obj.head.next is second Node data.\n",
    "obj = PrintI()\n",
    "obj.head = Node(1)\n",
    "second = Node(2)\n",
    "\n",
    "obj.head.next = second\n",
    "\n",
    "#here we call the method of obj object which on gave us the LinkedList Result.\n",
    "obj.printStat()\n"
   ]
  },
  {
   "cell_type": "code",
   "execution_count": 24,
   "metadata": {},
   "outputs": [
    {
     "name": "stdout",
     "output_type": "stream",
     "text": [
      "2\n",
      "1\n",
      "3\n",
      "Null\n"
     ]
    }
   ],
   "source": [
    "class Insert:\n",
    "    def __init__(self, data):\n",
    "        self.data = data\n",
    "        self.next = None\n",
    "\n",
    "class Insertion:\n",
    "    def __init__(self):\n",
    "        self.head = None\n",
    "\n",
    "    def addInFront(self, value):\n",
    "        new_node = Insert(value)\n",
    "\n",
    "        if self.head is None:\n",
    "            self.head = new_node\n",
    "            return\n",
    "        \n",
    "        new_node.next = self.head\n",
    "        self.head = new_node\n",
    "\n",
    "\n",
    "    def addInlast(self, new_data):\n",
    "        new_nod = Insert(new_data)\n",
    "        if self.head is None:\n",
    "            self.head = new_nod\n",
    "            return\n",
    "        last = self.head\n",
    "        while (last.next):\n",
    "            last = last.next\n",
    "        last.next =  new_nod\n",
    "    \n",
    "    def printIt(self):\n",
    "        temp = self.head\n",
    "        while temp != None:\n",
    "            print(temp.data)\n",
    "            temp = temp.next\n",
    "        print('Null')\n",
    "\n",
    "objet = Insertion()\n",
    "\n",
    "objet.addInFront(2)\n",
    "\n",
    "objet.addInlast(1)\n",
    "\n",
    "objet.addInlast(3)\n",
    "objet.printIt()\n",
    "\n",
    "\n"
   ]
  },
  {
   "cell_type": "code",
   "execution_count": 27,
   "metadata": {},
   "outputs": [
    {
     "name": "stdout",
     "output_type": "stream",
     "text": [
      "5\n",
      "4\n",
      "3\n",
      "None\n"
     ]
    }
   ],
   "source": [
    "class Insert1:\n",
    "    def __init__(self, data):\n",
    "        self.data = data\n",
    "        self.next = None\n",
    "\n",
    "class Insert_it:\n",
    "    def __init__(self):\n",
    "        self.head = None\n",
    "    \n",
    "    def front(self, val):\n",
    "        new_node = Insert1(val)\n",
    "        \n",
    "        if self.head == None:\n",
    "            self.head = new_node\n",
    "            return\n",
    "\n",
    "        new_node.next = self.head\n",
    "        self.head = new_node\n",
    "        \n",
    "    \n",
    "    def print_it(self):\n",
    "        temp = self.head\n",
    "        while temp != None:\n",
    "            print(temp.data)\n",
    "            temp = temp.next\n",
    "        print('None')\n",
    "\n",
    "\n",
    "news = Insert_it()\n",
    "news.front(3)\n",
    "news.front(4)\n",
    "news.front(5)\n",
    "news.print_it()\n",
    "        \n",
    "        \n"
   ]
  }
 ],
 "metadata": {
  "kernelspec": {
   "display_name": "Python 3",
   "language": "python",
   "name": "python3"
  },
  "language_info": {
   "codemirror_mode": {
    "name": "ipython",
    "version": 3
   },
   "file_extension": ".py",
   "mimetype": "text/x-python",
   "name": "python",
   "nbconvert_exporter": "python",
   "pygments_lexer": "ipython3",
   "version": "3.10.4"
  },
  "orig_nbformat": 4
 },
 "nbformat": 4,
 "nbformat_minor": 2
}
